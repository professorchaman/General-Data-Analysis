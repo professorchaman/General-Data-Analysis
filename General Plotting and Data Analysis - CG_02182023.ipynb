{
 "cells": [
  {
   "attachments": {},
   "cell_type": "markdown",
   "metadata": {},
   "source": [
    "## Introduction\n",
    "\n",
    "#### Author - Chaman Gupta\n",
    "#### Last Updated - 02/18/2023\n",
    "\n",
    "Install the following libraries by copying each line to your command prompt/terminal:\n",
    "\n",
    "***\n",
    "`pip install traitlets`\n",
    "\n",
    "`pip install peakutils`\n",
    "\n",
    "`pip install ipywidgets`\n",
    "\n",
    "`pip install tkinter`\n",
    "***"
   ]
  },
  {
   "cell_type": "markdown",
   "metadata": {},
   "source": [
    "### Import Libraries"
   ]
  },
  {
   "cell_type": "code",
   "execution_count": 23,
   "metadata": {
    "code_folding": [],
    "init_cell": true
   },
   "outputs": [],
   "source": [
    "\n",
    "# Import libraries\n",
    "import os\n",
    "import traitlets\n",
    "from ipywidgets import *\n",
    "from IPython.display import display, Javascript, clear_output\n",
    "\n",
    "import numpy as np\n",
    "import pandas as pd\n",
    "import matplotlib\n",
    "from matplotlib.animation import FuncAnimation\n",
    "import matplotlib.pyplot as plt\n",
    "\n",
    "from scipy.optimize import curve_fit\n",
    "from scipy.interpolate import CubicSpline                    # Safe smooth interpolation\n",
    "from scipy.signal import find_peaks\n",
    "from scipy.signal import medfilt\n",
    "from scipy import signal\n",
    "from pybaselines import Baseline, utils\n",
    "from scipy.integrate import simpson, trapz\n",
    "\n",
    "from tkinter import Tk, filedialog\n",
    "\n",
    "import peakutils\n",
    "from peakutils.plot import plot as pplot\n",
    "\n",
    "from tqdm import tqdm\n",
    "\n",
    "from helpers import *"
   ]
  },
  {
   "cell_type": "markdown",
   "metadata": {},
   "source": [
    "### Set graphing properties"
   ]
  },
  {
   "cell_type": "code",
   "execution_count": 2,
   "metadata": {},
   "outputs": [],
   "source": [
    "## Set graphing properties\n",
    "\n",
    "matplotlib.rcParams['font.sans-serif'] = ['Arial'] # Helvetica\n",
    "plt.rcParams[\"figure.figsize\"] = (15,7)\n",
    "\n",
    "SMALL_SIZE = 16\n",
    "MEDIUM_SIZE = 18\n",
    "BIGGER_SIZE = 20\n",
    "\n",
    "plt.rcParams['axes.facecolor']='white'\n",
    "plt.rcParams['savefig.facecolor']='white'\n",
    "plt.rc('font', size=SMALL_SIZE)  # controls default text sizes\n",
    "plt.rc('axes', titlesize=SMALL_SIZE)  # fontsize of the axes title\n",
    "plt.rc('axes', labelsize=MEDIUM_SIZE)  # fontsize of the x and y labels\n",
    "plt.rc('xtick', labelsize=SMALL_SIZE)  # fontsize of the tick labels\n",
    "plt.rc('ytick', labelsize=SMALL_SIZE)  # fontsize of the tick labels\n",
    "plt.rc('legend', fontsize=SMALL_SIZE)  # legend fontsize\n",
    "plt.rc('figure', titlesize=BIGGER_SIZE)  # fontsize of the figure title"
   ]
  },
  {
   "cell_type": "markdown",
   "metadata": {},
   "source": [
    "### Clean Intensity Correction files"
   ]
  },
  {
   "cell_type": "code",
   "execution_count": 3,
   "metadata": {},
   "outputs": [],
   "source": [
    "do_lamp_cleaning = 'n' # y or n\n",
    "\n",
    "if do_lamp_cleaning == 'y':\n",
    "    print(\"\\nSelect lamp files for cleaning and analysis \\n(optional; if none is chosen, default intensity correction factor will be used): \")\n",
    "    selectiCorrFiles = SelectFilesButton()\n",
    "    display(selectiCorrFiles)\n",
    "else:\n",
    "    pass\n"
   ]
  },
  {
   "cell_type": "code",
   "execution_count": 4,
   "metadata": {},
   "outputs": [],
   "source": [
    "## Variables\n",
    "do_baseline_subtraction = 'n' # 'y', 'n'\n",
    "do_median_filtering = 'n' # 'y', 'n'\n",
    "do_data_cleaning = 'n' # 'y', 'n'\n",
    "do_savgol_filtering = 'n' # 'y', 'n'\n",
    "do_conversion = 'n' # 'raman', 'energy', 'n'\n",
    "do_normalize = 'n' # 'relative' scale', 'area', 'n'\n",
    "do_peak_finding = 'n' # 'y', 'n'\n",
    "\n",
    "c_vac = 2.99*10**8 # speed of light in vacuum m/sec\n",
    "laser_source = 532 # Excitation source in nm\n",
    "\n",
    "p_order = 5 # Polynomial order for baseline subtraction\n",
    "k_size = 7 # Kernel size for Median Filtering\n",
    "erp = -10\n",
    "k_size_savgol = 11\n",
    "p_order_savgol = 1"
   ]
  },
  {
   "cell_type": "code",
   "execution_count": 5,
   "metadata": {},
   "outputs": [],
   "source": [
    "if do_lamp_cleaning == 'y':\n",
    "    i_corr_cleaning(selectiCorrFiles,do_baseline_subtraction,do_median_filtering,do_data_cleaning,do_savgol_filtering,do_conversion,do_normalize,do_peak_finding,p_order,k_size,erp,k_size_savgol,p_order_savgol)\n",
    "else:\n",
    "    pass"
   ]
  },
  {
   "cell_type": "markdown",
   "metadata": {},
   "source": [
    "### Manual Intensity Correction"
   ]
  },
  {
   "cell_type": "code",
   "execution_count": 12,
   "metadata": {
    "code_folding": []
   },
   "outputs": [
    {
     "name": "stdout",
     "output_type": "stream",
     "text": [
      "Select data files you want to analyze: \n"
     ]
    },
    {
     "data": {
      "application/vnd.jupyter.widget-view+json": {
       "model_id": "687eb024b8e74ae584e4f4a5f5439475",
       "version_major": 2,
       "version_minor": 0
      },
      "text/plain": [
       "SelectFilesButton(description='Select File', icon='square-o', style=ButtonStyle(button_color='orange'))"
      ]
     },
     "metadata": {},
     "output_type": "display_data"
    }
   ],
   "source": [
    "print(\"Select data files you want to analyze: \")\n",
    "selectFiles = SelectFilesButton()\n",
    "display(selectFiles)\n",
    "\n",
    "do_intensity_correction = 'n'\n",
    "\n",
    "if do_intensity_correction == 'y':\n",
    "    print(\"\\nSelect tungsten halogen (Blue Ocean optics HL2000) lamp spectrum for intensity correction \\n(optional; if none is chosen, default intensity correction factor will be used): \")\n",
    "    selectHalLamp = SelectFilesButton()\n",
    "    display(selectHalLamp)\n",
    "else:\n",
    "    pass"
   ]
  },
  {
   "cell_type": "markdown",
   "metadata": {},
   "source": [
    "## Main Data Processing and Plotting"
   ]
  },
  {
   "cell_type": "code",
   "execution_count": 25,
   "metadata": {
    "code_folding": []
   },
   "outputs": [],
   "source": [
    "## Variables\n",
    "is_fitted_data_file = False # 'y', 'n'\n",
    "do_baseline_subtraction = 'n' # 'y', 'n'\n",
    "do_median_filtering = 'n' # 'y', 'n'\n",
    "do_data_cleaning = 'n' # 'y', 'n'\n",
    "do_savgol_filtering = 'n' # 'y', 'n'\n",
    "do_conversion = 'n' # 'raman', 'energy', 'n'\n",
    "do_normalize = 'n' # 'relative' scale', 'area', 'n'\n",
    "do_peak_finding = 'n' # 'y', 'n'\n",
    "do_slicing = 'n'\n",
    "do_mfv_calc = 'y'\n",
    "\n",
    "meanf_method = 'energy'\n",
    "\n",
    "hf = 20\n",
    "p_order = 5 # Polynomial order for baseline subtraction\n",
    "k_size = 7 # Kernel size for Median Filtering\n",
    "erp = -5\n",
    "k_size_savgol = 3\n",
    "p_order_savgol = 1\n",
    "\n",
    "start_x = 830\n",
    "end_x = 1020\n",
    "\n",
    "base = 0\n",
    "\n",
    "c_vac = 2.99*10**8 # speed of light in vacuum m/sec\n",
    "laser_source = 532.109 # Excitation source in nm "
   ]
  },
  {
   "cell_type": "code",
   "execution_count": 27,
   "metadata": {
    "code_folding": []
   },
   "outputs": [
    {
     "name": "stderr",
     "output_type": "stream",
     "text": [
      "100%|██████████| 17/17 [00:00<00:00, 62.27it/s]\n"
     ]
    },
    {
     "data": {
      "image/png": "[encoded data removed]",
      "text/plain": [
       "<Figure size 432x288 with 2 Axes>"
      ]
     },
     "metadata": {
      "needs_background": "light"
     },
     "output_type": "display_data"
    }
   ],
   "source": [
    "fdata = selectFiles.files\n",
    "\n",
    "if do_intensity_correction == 'y':\n",
    "    flamp = selectHalLamp.files\n",
    "else:\n",
    "    pass\n",
    "\n",
    "x_label = 'Wavelength (nm)' # Set a default label for x-axis to Wavelength.\n",
    "\n",
    "laser_Pow = []\n",
    "\n",
    "meanf_df = pd.DataFrame(columns=('File Name','Power', 'Mean Wvl'))\n",
    "\n",
    "# Put this outside loop if you want only one plot with all cruves. Keep it inside if you want separate plots\n",
    "\n",
    "fig1 = plt.figure()\n",
    "\n",
    "if do_mfv_calc == 'y':\n",
    "    ax1 = fig1.add_subplot(121)\n",
    "    ax2 = fig1.add_subplot(122)\n",
    "else:\n",
    "    ax1 = fig1.add_subplot(111)\n",
    "        \n",
    "for i in tqdm(range(0, len(fdata))):\n",
    "    \n",
    "    # fig = plt.figure()\n",
    "    # ax1 = fig.add_subplot(121) # Put this outside loop if you want only one plot with all cruves. Keep it inside if you want separate plots\n",
    "\n",
    "    head_i, tail_i = os.path.split(fdata[i])\n",
    "    \n",
    "    x_data, y_data = DataReader(file_name=fdata[i]).read_file()\n",
    "    \n",
    "    if do_intensity_correction == 'y': x_data, y_data, intens_data = i_corr(flamp, fdata, i)\n",
    "    else: intens_data = y_data\n",
    "\n",
    "    if do_slicing == 'y': x_data, y_data, intens_data, start, end = slicing_func(x_data,y_data,intens_data,start_x,end_x)\n",
    "\n",
    "    norm_intens_data = norm_func(x_data,y_data,do_normalize)\n",
    "\n",
    "    if do_median_filtering == 'y': filt_data = filter_median(norm_intens_data, k_size)\n",
    "    else: filt_data = norm_intens_data\n",
    "\n",
    "    if do_baseline_subtraction == 'y': base = subtract_bsl(x_data,filt_data,hf)\n",
    "\n",
    "    bsl_subt_data = filt_data - base\n",
    "\n",
    "    if do_data_cleaning == 'y': cleaned_data = data_cleaning(bsl_subt_data, erp)\n",
    "    else: cleaned_data = bsl_subt_data\n",
    "\n",
    "    if do_savgol_filtering == 'y': savgol_filt_data = filter_savgol(cleaned_data, k_size_savgol,p_order_savgol)\n",
    "    else: savgol_filt_data = cleaned_data\n",
    "\n",
    "    if do_conversion == 'raman':\n",
    "        x_val = nm2ram(x_data,laser_source)\n",
    "        x_label = 'Raman shift(cm$^{-1}$)'\n",
    "        y_val = savgol_filt_data*x_data/10**7\n",
    "    elif do_conversion == 'energy':\n",
    "        x_val = 1240 / x_data\n",
    "        x_label = 'Energy(eV)'\n",
    "        y_val = (1240/(x_val**2))*savgol_filt_data\n",
    "    else:\n",
    "        x_val = x_data\n",
    "        y_val = savgol_filt_data\n",
    "    \n",
    "    if do_mfv_calc == 'y':\n",
    "        mean_f = mean_f_wvl(x_val,y_val,meanf_method)\n",
    "        \n",
    "        string_start = '1020'\n",
    "        string_end = 'et'\n",
    "        string_to_search = 'Pow_'\n",
    "        string_to_end = 'mW'\n",
    "        \n",
    "        power_start = tail_i.find(string_to_search,tail_i.find(string_start),tail_i.find(string_end)) + 4\n",
    "        power_end = tail_i.find(string_to_end,tail_i.find(string_start),tail_i.find(string_end))\n",
    "        power_val = tail_i[power_start:power_end]\n",
    "        if float(power_val) not in laser_Pow:\n",
    "            laser_Pow.append(float(power_val))\n",
    "        \n",
    "        meanf_df.loc[i] =  [tail_i,float(power_val),float(mean_f)]\n",
    "        #ax2.scatter(power_val,mean_f,color='k')\n",
    "    \n",
    "    ### Peak Finding\n",
    "    \n",
    "    # Plotting starts below. Change the code if you want to change how the plotting happens.\n",
    "    \n",
    "    if do_peak_finding == 'y':\n",
    "        w_size = 10\n",
    "        p_prom = 2\n",
    "        thresh = 2\n",
    "\n",
    "        # mp = np.append(mp,press_find(thresh,x_val,y_val,w_size,p_prom))\n",
    "\n",
    "        peak_x = x_val[find_peaks(y_val,width=w_size,prominence=p_prom)[0]]\n",
    "        peak_y = savgol_filt_data[find_peaks(y_val,width=w_size,prominence=p_prom)[0]]\n",
    "\n",
    "        if all(peak_y>thresh)==True:\n",
    "            #print(tail_i)\n",
    "            #print(peak_x, peak_y)\n",
    "            ax1.scatter(peak_x, peak_y,marker='D',color='k')\n",
    "        #file_data_df_i = pd.DataFrame([[tail_i, np.min(x_val),np.max(x_val)]])\n",
    "        #file_data_df = file_data_df.append(file_data_df_i,ignore_index=True)\n",
    "    else:\n",
    "        pass\n",
    "\n",
    "    if is_fitted_data_file == 'y':\n",
    "        \n",
    "        #The 'lab' is a list to store the labels for locations of peaks. Add or remove based on how many peaks you have in your fitted data file from Fityk.\n",
    "        \n",
    "        color_lab = []\n",
    "        power_lab = []\n",
    "        lab = []\n",
    "        \n",
    "        ax1.scatter(x_data, y_data[:,0]/np.max(y_data[:,0]), marker='o', s=4,alpha=0.8,color='r')\n",
    "        \n",
    "        for j in range(1,col_len-2):\n",
    "            \n",
    "            #Plot wihtout lables\n",
    "            ax1.plot(x_data, y_data[:,j]/np.max(y_data[:,0]), lw=0.8,color='k')\n",
    "            \n",
    "            #Plot with labels\n",
    "            # ax1.plot(x_data, y_data[:,j]/np.max(y_data[:,0]), lw=0.8,color='k', label=str(lab[j-1]) + \" nm -- \" + str.format('{0:.1f}',nm2ram(lab[j-1])) + \" cm$^{-1}$\")\n",
    "            \n",
    "            #Add vertical lines\n",
    "            #ax1.vlines(lab[j-1], ymin=0, ymax = 1.04, linestyles='dashed', color='k', alpha=0.6)\n",
    "            #max_y_ht = np.max(y_data) + 100\n",
    "            \n",
    "            #Add text annotation\n",
    "            #ax1.annotate(str(lab[i-2]), (lab[i-2], 250), color='k', rotation=90, size)\n",
    "            #ax1.text(lab[j]+.8, 1.1, str(lab[j]), rotation=90, fontsize = 13)\n",
    "            \n",
    "        ax1.plot(x_data, y_data[:,-1]/np.max(y_data[:,0]), lw=3,color='b')\n",
    "    else:\n",
    "        \n",
    "        y_per = y_val\n",
    "                \n",
    "        ax1.plot(x_val, y_per,label=tail_i,color='k',lw=0.2, ls='-') # Code line to plot the curves\n",
    "        \n",
    "    # General plot properties are set below\n",
    "        \n",
    "    ax1.set_title('Put your title here')\n",
    "    ax1.set_xlabel(x_label)\n",
    "    ax1.set_ylabel('Intensity (counts)')\n",
    "    #ax1.set_xlim()\n",
    "    #ax1.set_ylim()\n",
    "    \n",
    "    #ax1.set_yticks([])\n",
    "    #ax1.tick_params(axis='y',which='both',left='off',labelleft='off')\n",
    "\n",
    "    #ax1.legend(bbox_to_anchor=(1, 1),title='Peak Positions')\n",
    "\n",
    "    # Add a secondary x-axis\n",
    "    #secax = ax1.secondary_xaxis('top', functions=(nm2ram(xval,laser_source), ram2nm(xval,laser_source)))\n",
    "    #secax.set_xlabel('Raman shift (cm$^{-1}$)')\n",
    "    \n",
    "if do_mfv_calc == 'y': plot_meanf_data(laser_Pow, meanf_df, ax2, plot_title='Put your title here')\n",
    "\n",
    "fig1.tight_layout()\n",
    "plt.show()\n",
    "#plt.savefig(os.path.join(head_i,'PL_plot-09202022.jpg'))"
   ]
  },
  {
   "cell_type": "code",
   "execution_count": null,
   "metadata": {},
   "outputs": [],
   "source": []
  }
 ],
 "metadata": {
  "celltoolbar": "Initialization Cell",
  "interpreter": {
   "hash": "bdbce315960c3776fe868f285029d7a59084f2e8882315e6dd1aa58e67f790cf"
  },
  "kernelspec": {
   "display_name": "Python 3.10.4 64-bit",
   "language": "python",
   "name": "python3"
  },
  "language_info": {
   "codemirror_mode": {
    "name": "ipython",
    "version": 3
   },
   "file_extension": ".py",
   "mimetype": "text/x-python",
   "name": "python",
   "nbconvert_exporter": "python",
   "pygments_lexer": "ipython3",
   "version": "3.10.4"
  },
  "latex_envs": {
   "LaTeX_envs_menu_present": true,
   "autoclose": false,
   "autocomplete": true,
   "bibliofile": "biblio.bib",
   "cite_by": "apalike",
   "current_citInitial": 1,
   "eqLabelWithNumbers": true,
   "eqNumInitial": 1,
   "hotkeys": {
    "equation": "Ctrl-E",
    "itemize": "Ctrl-I"
   },
   "labels_anchors": false,
   "latex_user_defs": false,
   "report_style_numbering": false,
   "user_envs_cfg": false
  },
  "varInspector": {
   "cols": {
    "lenName": 16,
    "lenType": 16,
    "lenVar": 40
   },
   "kernels_config": {
    "python": {
     "delete_cmd_postfix": "",
     "delete_cmd_prefix": "del ",
     "library": "var_list.py",
     "varRefreshCmd": "print(var_dic_list())"
    },
    "r": {
     "delete_cmd_postfix": ") ",
     "delete_cmd_prefix": "rm(",
     "library": "var_list.r",
     "varRefreshCmd": "cat(var_dic_list()) "
    }
   },
   "position": {
    "height": "554px",
    "left": "1550px",
    "right": "20px",
    "top": "120px",
    "width": "350px"
   },
   "types_to_exclude": [
    "module",
    "function",
    "builtin_function_or_method",
    "instance",
    "_Feature"
   ],
   "window_display": false
  }
 },
 "nbformat": 4,
 "nbformat_minor": 4
}
